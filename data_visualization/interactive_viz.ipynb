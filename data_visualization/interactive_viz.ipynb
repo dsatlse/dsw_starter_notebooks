{
 "metadata": {
  "language_info": {
   "codemirror_mode": {
    "name": "ipython",
    "version": 3
   },
   "file_extension": ".py",
   "mimetype": "text/x-python",
   "name": "python",
   "nbconvert_exporter": "python",
   "pygments_lexer": "ipython3",
   "version": 3
  },
  "orig_nbformat": 2
 },
 "nbformat": 4,
 "nbformat_minor": 2,
 "cells": [
  {
   "source": [
    "![title banner](../banners/start_banner.png)\n",
    "\n",
    "# Topic : Interactive Data Visualization\n",
    "\n",
    "This notebook provides links to further high-quality, beginner-friendly resources from where you can learn to implement interactive data visualization.\n",
    "\n",
    "**Interactive Data Visualization Libraries**\n",
    "\n",
    "1. [Plotly Tutorial](https://www.kaggle.com/kanncaa1/plotly-tutorial-for-beginners)\n",
    "2. [Bokeh Tutorial](https://programminghistorian.org/en/lessons/visualizing-with-bokeh)\n",
    "\n",
    "**Dashboard Design**\n",
    "\n",
    "1. [Build a complex reporting dashboard](https://towardsdatascience.com/how-to-build-a-complex-reporting-dashboard-using-dash-and-plotl-4f4257c18a7f)\n",
    "2. [Step-by-step tutorial to building a dashboard](https://www.statworx.com/en/blog/how-to-build-a-dashboard-in-python-plotly-dash-step-by-step-tutorial/)\n",
    "3. [Design Thinking](https://www.interaction-design.org/literature/article/what-is-design-thinking-and-why-is-it-so-popular)\n"
   ],
   "cell_type": "markdown",
   "metadata": {}
  },
  {
   "source": [
    "![end banner](../banners/finish_banner.png)"
   ],
   "cell_type": "markdown",
   "metadata": {}
  }
 ]
}