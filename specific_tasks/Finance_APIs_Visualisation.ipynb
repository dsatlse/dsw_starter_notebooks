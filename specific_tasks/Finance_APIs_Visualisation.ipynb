{
  "nbformat": 4,
  "nbformat_minor": 0,
  "metadata": {
    "colab": {
      "name": "Finance-APIs-Visualisation",
      "provenance": [],
      "collapsed_sections": []
    },
    "kernelspec": {
      "name": "python3",
      "display_name": "Python 3"
    }
  },
  "cells": [
    {
      "source": [
        "![title banner](../banners/start_banner.png)"
      ],
      "cell_type": "markdown",
      "metadata": {}
    },
    {
      "cell_type": "markdown",
      "metadata": {
        "id": "Njm-bEe1t71y"
      },
      "source": [
        "# Using Neural Network to predict stock returns"
      ]
    },
    {
      "cell_type": "markdown",
      "metadata": {
        "id": "q2640gdPucJW"
      },
      "source": [
        "Neural Networks can be used to automate a multitude of tasks such as image classification and speech recognition. But can they be used to judge the price of stocks? \r\n",
        "\r\n",
        "In this notebook we will layout a simple model which can be used to predict future stock returns. We will build our NN such that it inputs the past 10 days of stock returns and uses that data to calculate the return for the next day.\r\n",
        "\r\n",
        "The aim of this notebook is to demonstrate data storytelling in a simple way:\r\n",
        "1. We obtain data, in this case about Gamestop (GME)\r\n",
        "2. In this case, our \"research\" question is : **Can we accurately forecast future returns using past returns?**\r\n",
        "3. We apply a Neural Network as our modelling technique, partitioning our dataset into train/test, fitting the model, then evaluating it.\r\n",
        "4. Further evaluation of our technique"
      ]
    },
    {
      "cell_type": "markdown",
      "metadata": {
        "id": "g7ThLyNm1Kch"
      },
      "source": [
        "### **Importing libaries**\r\n",
        "\r\n",
        "Let's import a few libraries to get us going. You can find the names and documentation of the libraries below:\r\n",
        " \r\n",
        "\r\n",
        "1.   [Pandas](https://pandas.pydata.org/docs/index.html)\r\n",
        "2.   [Numpy](https://numpy.org/doc/)\r\n",
        "3.   [yfinance](https://algotrading101.com/learn/yfinance-guide/)\r\n"
      ]
    },
    {
      "cell_type": "code",
      "metadata": {
        "colab": {
          "base_uri": "https://localhost:8080/"
        },
        "id": "ndiroAvi3eQh",
        "outputId": "5b7a0d83-e5ff-4b40-b2b0-0b5959a8fa8d"
      },
      "source": [
        "\"\"\"\r\n",
        "key imports, in the Colab environment\r\n",
        "we also need to install some packages e.g. yfinance\r\n",
        "\"\"\"\r\n",
        "!pip3 install -qq yfinance\r\n",
        "\r\n",
        "import numpy as np\r\n",
        "import pandas as pd\r\n",
        "import yfinance as yf"
      ],
      "execution_count": 1,
      "outputs": [
        {
          "output_type": "stream",
          "text": [
            "\u001b[K     |████████████████████████████████| 5.5MB 11.3MB/s \n",
            "\u001b[?25h  Building wheel for yfinance (setup.py) ... \u001b[?25l\u001b[?25hdone\n"
          ],
          "name": "stdout"
        }
      ]
    },
    {
      "cell_type": "markdown",
      "metadata": {
        "id": "DcGKCW7T5kbw"
      },
      "source": [
        "### **Importing stock data**\r\n",
        "\r\n",
        "Python has a lot of useful libraries, some of which can help us collect data. One of them is the `yfinance` library.\r\n",
        "\r\n",
        "Using the `yfinance` library we will import data on GME which we can feed into our neural network.\r\n",
        "\r\n"
      ]
    },
    {
      "cell_type": "code",
      "metadata": {
        "colab": {
          "base_uri": "https://localhost:8080/",
          "height": 402
        },
        "id": "Kq8bgot_DGYS",
        "outputId": "1164f96d-f999-42bc-8a6a-dd09e921356a"
      },
      "source": [
        "prices = yf.Ticker(\"GME\")\r\n",
        "\r\n",
        "#Import our data (period=\"max\" means that we gather all the data available i.e. from the first trading day)\r\n",
        "temp = prices.history(period=\"max\")\r\n",
        "\r\n",
        "temp = temp.reset_index() #adding an index to our dataset\r\n",
        "\r\n",
        "display(temp)"
      ],
      "execution_count": 2,
      "outputs": [
        {
          "output_type": "display_data",
          "data": {
            "text/html": [
              "<div>\n",
              "<style scoped>\n",
              "    .dataframe tbody tr th:only-of-type {\n",
              "        vertical-align: middle;\n",
              "    }\n",
              "\n",
              "    .dataframe tbody tr th {\n",
              "        vertical-align: top;\n",
              "    }\n",
              "\n",
              "    .dataframe thead th {\n",
              "        text-align: right;\n",
              "    }\n",
              "</style>\n",
              "<table border=\"1\" class=\"dataframe\">\n",
              "  <thead>\n",
              "    <tr style=\"text-align: right;\">\n",
              "      <th></th>\n",
              "      <th>Date</th>\n",
              "      <th>Open</th>\n",
              "      <th>High</th>\n",
              "      <th>Low</th>\n",
              "      <th>Close</th>\n",
              "      <th>Volume</th>\n",
              "      <th>Dividends</th>\n",
              "      <th>Stock Splits</th>\n",
              "    </tr>\n",
              "  </thead>\n",
              "  <tbody>\n",
              "    <tr>\n",
              "      <th>0</th>\n",
              "      <td>2002-02-13</td>\n",
              "      <td>6.480513</td>\n",
              "      <td>6.773399</td>\n",
              "      <td>6.413183</td>\n",
              "      <td>6.766666</td>\n",
              "      <td>19054000</td>\n",
              "      <td>0.0</td>\n",
              "      <td>0.0</td>\n",
              "    </tr>\n",
              "    <tr>\n",
              "      <th>1</th>\n",
              "      <td>2002-02-14</td>\n",
              "      <td>6.850831</td>\n",
              "      <td>6.864296</td>\n",
              "      <td>6.682506</td>\n",
              "      <td>6.733003</td>\n",
              "      <td>2755400</td>\n",
              "      <td>0.0</td>\n",
              "      <td>0.0</td>\n",
              "    </tr>\n",
              "    <tr>\n",
              "      <th>2</th>\n",
              "      <td>2002-02-15</td>\n",
              "      <td>6.733001</td>\n",
              "      <td>6.749833</td>\n",
              "      <td>6.632006</td>\n",
              "      <td>6.699336</td>\n",
              "      <td>2097400</td>\n",
              "      <td>0.0</td>\n",
              "      <td>0.0</td>\n",
              "    </tr>\n",
              "    <tr>\n",
              "      <th>3</th>\n",
              "      <td>2002-02-19</td>\n",
              "      <td>6.665671</td>\n",
              "      <td>6.665671</td>\n",
              "      <td>6.312189</td>\n",
              "      <td>6.430017</td>\n",
              "      <td>1852600</td>\n",
              "      <td>0.0</td>\n",
              "      <td>0.0</td>\n",
              "    </tr>\n",
              "    <tr>\n",
              "      <th>4</th>\n",
              "      <td>2002-02-20</td>\n",
              "      <td>6.463681</td>\n",
              "      <td>6.648838</td>\n",
              "      <td>6.413183</td>\n",
              "      <td>6.648838</td>\n",
              "      <td>1723200</td>\n",
              "      <td>0.0</td>\n",
              "      <td>0.0</td>\n",
              "    </tr>\n",
              "    <tr>\n",
              "      <th>...</th>\n",
              "      <td>...</td>\n",
              "      <td>...</td>\n",
              "      <td>...</td>\n",
              "      <td>...</td>\n",
              "      <td>...</td>\n",
              "      <td>...</td>\n",
              "      <td>...</td>\n",
              "      <td>...</td>\n",
              "    </tr>\n",
              "    <tr>\n",
              "      <th>4787</th>\n",
              "      <td>2021-02-19</td>\n",
              "      <td>41.279999</td>\n",
              "      <td>43.889999</td>\n",
              "      <td>38.500000</td>\n",
              "      <td>40.590000</td>\n",
              "      <td>14678700</td>\n",
              "      <td>0.0</td>\n",
              "      <td>0.0</td>\n",
              "    </tr>\n",
              "    <tr>\n",
              "      <th>4788</th>\n",
              "      <td>2021-02-22</td>\n",
              "      <td>46.689999</td>\n",
              "      <td>48.509998</td>\n",
              "      <td>42.400002</td>\n",
              "      <td>46.000000</td>\n",
              "      <td>19338400</td>\n",
              "      <td>0.0</td>\n",
              "      <td>0.0</td>\n",
              "    </tr>\n",
              "    <tr>\n",
              "      <th>4789</th>\n",
              "      <td>2021-02-23</td>\n",
              "      <td>44.970001</td>\n",
              "      <td>46.230000</td>\n",
              "      <td>40.000000</td>\n",
              "      <td>44.970001</td>\n",
              "      <td>7516000</td>\n",
              "      <td>0.0</td>\n",
              "      <td>0.0</td>\n",
              "    </tr>\n",
              "    <tr>\n",
              "      <th>4790</th>\n",
              "      <td>2021-02-24</td>\n",
              "      <td>44.700001</td>\n",
              "      <td>91.709999</td>\n",
              "      <td>44.700001</td>\n",
              "      <td>91.709999</td>\n",
              "      <td>76315700</td>\n",
              "      <td>0.0</td>\n",
              "      <td>0.0</td>\n",
              "    </tr>\n",
              "    <tr>\n",
              "      <th>4791</th>\n",
              "      <td>2021-02-25</td>\n",
              "      <td>169.559998</td>\n",
              "      <td>184.679993</td>\n",
              "      <td>101.000000</td>\n",
              "      <td>108.730003</td>\n",
              "      <td>147922292</td>\n",
              "      <td>0.0</td>\n",
              "      <td>0.0</td>\n",
              "    </tr>\n",
              "  </tbody>\n",
              "</table>\n",
              "<p>4792 rows × 8 columns</p>\n",
              "</div>"
            ],
            "text/plain": [
              "           Date        Open        High  ...     Volume  Dividends  Stock Splits\n",
              "0    2002-02-13    6.480513    6.773399  ...   19054000        0.0           0.0\n",
              "1    2002-02-14    6.850831    6.864296  ...    2755400        0.0           0.0\n",
              "2    2002-02-15    6.733001    6.749833  ...    2097400        0.0           0.0\n",
              "3    2002-02-19    6.665671    6.665671  ...    1852600        0.0           0.0\n",
              "4    2002-02-20    6.463681    6.648838  ...    1723200        0.0           0.0\n",
              "...         ...         ...         ...  ...        ...        ...           ...\n",
              "4787 2021-02-19   41.279999   43.889999  ...   14678700        0.0           0.0\n",
              "4788 2021-02-22   46.689999   48.509998  ...   19338400        0.0           0.0\n",
              "4789 2021-02-23   44.970001   46.230000  ...    7516000        0.0           0.0\n",
              "4790 2021-02-24   44.700001   91.709999  ...   76315700        0.0           0.0\n",
              "4791 2021-02-25  169.559998  184.679993  ...  147922292        0.0           0.0\n",
              "\n",
              "[4792 rows x 8 columns]"
            ]
          },
          "metadata": {
            "tags": []
          }
        }
      ]
    },
    {
      "cell_type": "markdown",
      "metadata": {
        "id": "dndzQbcwL19D"
      },
      "source": [
        "### **Data Preprocessing and Visualisation**\r\n",
        "Now that we have our data, let's plot a simple to get a good idea of the stock prices. Plotting gives us a feel of the data, and lets us catch any modelling assumptions or feature engineering we might need to make\r\n",
        "\r\n",
        "`.loc` Allows you to access a row or a set of rows. In this case, we are accessing all rows which have a date equaal to or bigger than 1st Jan 2021.\r\n",
        "\r\n",
        "`pandas`'s in built plot function allows us to quickly build plots. Some other plotting libraries are:\r\n",
        "\r\n",
        "+ `matplotlib`\r\n",
        "+ `seaborn`\r\n",
        "+ `plotly`\r\n",
        "\r\n"
      ]
    },
    {
      "cell_type": "code",
      "metadata": {
        "colab": {
          "base_uri": "https://localhost:8080/",
          "height": 302
        },
        "id": "d3JCCbbJQeat",
        "outputId": "0361a409-feec-4d28-feb6-385eee271e56"
      },
      "source": [
        "temp.loc[temp['Date'] >= \"2021-01-01\",['Date','Close']].plot(x = 'Date', y ='Close')"
      ],
      "execution_count": 3,
      "outputs": [
        {
          "output_type": "execute_result",
          "data": {
            "text/plain": [
              "<matplotlib.axes._subplots.AxesSubplot at 0x7f9950853950>"
            ]
          },
          "metadata": {
            "tags": []
          },
          "execution_count": 3
        },
        {
          "output_type": "display_data",
          "data": {
            "image/png": "[encoded data removed]",
            "text/plain": [
              "<Figure size 432x288 with 1 Axes>"
            ]
          },
          "metadata": {
            "tags": [],
            "needs_background": "light"
          }
        }
      ]
    },
    {
      "cell_type": "markdown",
      "metadata": {
        "id": "ym7oLCRBMX03"
      },
      "source": [
        "Now that we know what our data looks like, let's preprocess it to make it suitable to feed into our NN. First we will create a **returns** column which will tell us the everyday returns of the GME stock.\r\n",
        "\r\n",
        "Here's where we might use *domain knowledge*. A common \"stylised fact\" of financial econometrics, is that prices tend to be non-stationary, where as log-returns i.e. the percentage changes tend to be more stationary. What stationary means in this contet, is that the distribution remains the same over time: prices might range, for example from 3 - 300, but the daily log-returns (percentage) change will probably be between 0 - 0.2 (0 - 20%)\r\n",
        "\r\n",
        "`np.diff` takes the difference between every 2 values in the column.\r\n"
      ]
    },
    {
      "cell_type": "code",
      "metadata": {
        "id": "JYfXvlN7QK0Y"
      },
      "source": [
        "temp['returns'] = np.log(temp['Close']).diff(1)\r\n",
        "#display(temp)"
      ],
      "execution_count": 4,
      "outputs": []
    },
    {
      "cell_type": "markdown",
      "metadata": {
        "id": "nOsQqFHJMnMu"
      },
      "source": [
        "We said at the beginning that we will feed in the returns of the previous 10 days into our model. A simple way to do this is to group each day's stock return with the returns of the past 10 days. \r\n",
        "\r\n",
        "Hence, we will create 10 additional columns with the name **returns_lag_i** where i represents the return of the past ith day.\r\n",
        "\r\n",
        "As always, typical modelling - or in this case supervised learning tasks - require features /  explanatory variables $X$, and a dependent variable / target $y$. Here we're assuming that past returns have *some association* and can be used to predict the future return"
      ]
    },
    {
      "cell_type": "code",
      "metadata": {
        "id": "7Q_O-IIcNmzM",
        "colab": {
          "base_uri": "https://localhost:8080/",
          "height": 606
        },
        "outputId": "d90ff51f-bd90-4f71-c5b6-62fa9db39af9"
      },
      "source": [
        "#Create the 10 columns\r\n",
        "LAGS = 10\r\n",
        "for i in range(1, LAGS + 1):\r\n",
        "  temp['returns_lag_'+ str(i)] = temp['returns'].shift(i)\r\n",
        "display(temp)"
      ],
      "execution_count": 5,
      "outputs": [
        {
          "output_type": "display_data",
          "data": {
            "text/html": [
              "<div>\n",
              "<style scoped>\n",
              "    .dataframe tbody tr th:only-of-type {\n",
              "        vertical-align: middle;\n",
              "    }\n",
              "\n",
              "    .dataframe tbody tr th {\n",
              "        vertical-align: top;\n",
              "    }\n",
              "\n",
              "    .dataframe thead th {\n",
              "        text-align: right;\n",
              "    }\n",
              "</style>\n",
              "<table border=\"1\" class=\"dataframe\">\n",
              "  <thead>\n",
              "    <tr style=\"text-align: right;\">\n",
              "      <th></th>\n",
              "      <th>Date</th>\n",
              "      <th>Open</th>\n",
              "      <th>High</th>\n",
              "      <th>Low</th>\n",
              "      <th>Close</th>\n",
              "      <th>Volume</th>\n",
              "      <th>Dividends</th>\n",
              "      <th>Stock Splits</th>\n",
              "      <th>returns</th>\n",
              "      <th>returns_lag_1</th>\n",
              "      <th>returns_lag_2</th>\n",
              "      <th>returns_lag_3</th>\n",
              "      <th>returns_lag_4</th>\n",
              "      <th>returns_lag_5</th>\n",
              "      <th>returns_lag_6</th>\n",
              "      <th>returns_lag_7</th>\n",
              "      <th>returns_lag_8</th>\n",
              "      <th>returns_lag_9</th>\n",
              "      <th>returns_lag_10</th>\n",
              "    </tr>\n",
              "  </thead>\n",
              "  <tbody>\n",
              "    <tr>\n",
              "      <th>0</th>\n",
              "      <td>2002-02-13</td>\n",
              "      <td>6.480513</td>\n",
              "      <td>6.773399</td>\n",
              "      <td>6.413183</td>\n",
              "      <td>6.766666</td>\n",
              "      <td>19054000</td>\n",
              "      <td>0.0</td>\n",
              "      <td>0.0</td>\n",
              "      <td>NaN</td>\n",
              "      <td>NaN</td>\n",
              "      <td>NaN</td>\n",
              "      <td>NaN</td>\n",
              "      <td>NaN</td>\n",
              "      <td>NaN</td>\n",
              "      <td>NaN</td>\n",
              "      <td>NaN</td>\n",
              "      <td>NaN</td>\n",
              "      <td>NaN</td>\n",
              "      <td>NaN</td>\n",
              "    </tr>\n",
              "    <tr>\n",
              "      <th>1</th>\n",
              "      <td>2002-02-14</td>\n",
              "      <td>6.850831</td>\n",
              "      <td>6.864296</td>\n",
              "      <td>6.682506</td>\n",
              "      <td>6.733003</td>\n",
              "      <td>2755400</td>\n",
              "      <td>0.0</td>\n",
              "      <td>0.0</td>\n",
              "      <td>-0.004987</td>\n",
              "      <td>NaN</td>\n",
              "      <td>NaN</td>\n",
              "      <td>NaN</td>\n",
              "      <td>NaN</td>\n",
              "      <td>NaN</td>\n",
              "      <td>NaN</td>\n",
              "      <td>NaN</td>\n",
              "      <td>NaN</td>\n",
              "      <td>NaN</td>\n",
              "      <td>NaN</td>\n",
              "    </tr>\n",
              "    <tr>\n",
              "      <th>2</th>\n",
              "      <td>2002-02-15</td>\n",
              "      <td>6.733001</td>\n",
              "      <td>6.749833</td>\n",
              "      <td>6.632006</td>\n",
              "      <td>6.699336</td>\n",
              "      <td>2097400</td>\n",
              "      <td>0.0</td>\n",
              "      <td>0.0</td>\n",
              "      <td>-0.005013</td>\n",
              "      <td>-0.004987</td>\n",
              "      <td>NaN</td>\n",
              "      <td>NaN</td>\n",
              "      <td>NaN</td>\n",
              "      <td>NaN</td>\n",
              "      <td>NaN</td>\n",
              "      <td>NaN</td>\n",
              "      <td>NaN</td>\n",
              "      <td>NaN</td>\n",
              "      <td>NaN</td>\n",
              "    </tr>\n",
              "    <tr>\n",
              "      <th>3</th>\n",
              "      <td>2002-02-19</td>\n",
              "      <td>6.665671</td>\n",
              "      <td>6.665671</td>\n",
              "      <td>6.312189</td>\n",
              "      <td>6.430017</td>\n",
              "      <td>1852600</td>\n",
              "      <td>0.0</td>\n",
              "      <td>0.0</td>\n",
              "      <td>-0.041031</td>\n",
              "      <td>-0.005013</td>\n",
              "      <td>-0.004987</td>\n",
              "      <td>NaN</td>\n",
              "      <td>NaN</td>\n",
              "      <td>NaN</td>\n",
              "      <td>NaN</td>\n",
              "      <td>NaN</td>\n",
              "      <td>NaN</td>\n",
              "      <td>NaN</td>\n",
              "      <td>NaN</td>\n",
              "    </tr>\n",
              "    <tr>\n",
              "      <th>4</th>\n",
              "      <td>2002-02-20</td>\n",
              "      <td>6.463681</td>\n",
              "      <td>6.648838</td>\n",
              "      <td>6.413183</td>\n",
              "      <td>6.648838</td>\n",
              "      <td>1723200</td>\n",
              "      <td>0.0</td>\n",
              "      <td>0.0</td>\n",
              "      <td>0.033465</td>\n",
              "      <td>-0.041031</td>\n",
              "      <td>-0.005013</td>\n",
              "      <td>-0.004987</td>\n",
              "      <td>NaN</td>\n",
              "      <td>NaN</td>\n",
              "      <td>NaN</td>\n",
              "      <td>NaN</td>\n",
              "      <td>NaN</td>\n",
              "      <td>NaN</td>\n",
              "      <td>NaN</td>\n",
              "    </tr>\n",
              "    <tr>\n",
              "      <th>...</th>\n",
              "      <td>...</td>\n",
              "      <td>...</td>\n",
              "      <td>...</td>\n",
              "      <td>...</td>\n",
              "      <td>...</td>\n",
              "      <td>...</td>\n",
              "      <td>...</td>\n",
              "      <td>...</td>\n",
              "      <td>...</td>\n",
              "      <td>...</td>\n",
              "      <td>...</td>\n",
              "      <td>...</td>\n",
              "      <td>...</td>\n",
              "      <td>...</td>\n",
              "      <td>...</td>\n",
              "      <td>...</td>\n",
              "      <td>...</td>\n",
              "      <td>...</td>\n",
              "      <td>...</td>\n",
              "    </tr>\n",
              "    <tr>\n",
              "      <th>4787</th>\n",
              "      <td>2021-02-19</td>\n",
              "      <td>41.279999</td>\n",
              "      <td>43.889999</td>\n",
              "      <td>38.500000</td>\n",
              "      <td>40.590000</td>\n",
              "      <td>14678700</td>\n",
              "      <td>0.0</td>\n",
              "      <td>0.0</td>\n",
              "      <td>-0.002461</td>\n",
              "      <td>-0.121354</td>\n",
              "      <td>-0.074838</td>\n",
              "      <td>-0.056732</td>\n",
              "      <td>0.025122</td>\n",
              "      <td>-0.001955</td>\n",
              "      <td>0.017536</td>\n",
              "      <td>-0.176141</td>\n",
              "      <td>-0.060938</td>\n",
              "      <td>0.175601</td>\n",
              "      <td>-0.546554</td>\n",
              "    </tr>\n",
              "    <tr>\n",
              "      <th>4788</th>\n",
              "      <td>2021-02-22</td>\n",
              "      <td>46.689999</td>\n",
              "      <td>48.509998</td>\n",
              "      <td>42.400002</td>\n",
              "      <td>46.000000</td>\n",
              "      <td>19338400</td>\n",
              "      <td>0.0</td>\n",
              "      <td>0.0</td>\n",
              "      <td>0.125120</td>\n",
              "      <td>-0.002461</td>\n",
              "      <td>-0.121354</td>\n",
              "      <td>-0.074838</td>\n",
              "      <td>-0.056732</td>\n",
              "      <td>0.025122</td>\n",
              "      <td>-0.001955</td>\n",
              "      <td>0.017536</td>\n",
              "      <td>-0.176141</td>\n",
              "      <td>-0.060938</td>\n",
              "      <td>0.175601</td>\n",
              "    </tr>\n",
              "    <tr>\n",
              "      <th>4789</th>\n",
              "      <td>2021-02-23</td>\n",
              "      <td>44.970001</td>\n",
              "      <td>46.230000</td>\n",
              "      <td>40.000000</td>\n",
              "      <td>44.970001</td>\n",
              "      <td>7516000</td>\n",
              "      <td>0.0</td>\n",
              "      <td>0.0</td>\n",
              "      <td>-0.022646</td>\n",
              "      <td>0.125120</td>\n",
              "      <td>-0.002461</td>\n",
              "      <td>-0.121354</td>\n",
              "      <td>-0.074838</td>\n",
              "      <td>-0.056732</td>\n",
              "      <td>0.025122</td>\n",
              "      <td>-0.001955</td>\n",
              "      <td>0.017536</td>\n",
              "      <td>-0.176141</td>\n",
              "      <td>-0.060938</td>\n",
              "    </tr>\n",
              "    <tr>\n",
              "      <th>4790</th>\n",
              "      <td>2021-02-24</td>\n",
              "      <td>44.700001</td>\n",
              "      <td>91.709999</td>\n",
              "      <td>44.700001</td>\n",
              "      <td>91.709999</td>\n",
              "      <td>76315700</td>\n",
              "      <td>0.0</td>\n",
              "      <td>0.0</td>\n",
              "      <td>0.712636</td>\n",
              "      <td>-0.022646</td>\n",
              "      <td>0.125120</td>\n",
              "      <td>-0.002461</td>\n",
              "      <td>-0.121354</td>\n",
              "      <td>-0.074838</td>\n",
              "      <td>-0.056732</td>\n",
              "      <td>0.025122</td>\n",
              "      <td>-0.001955</td>\n",
              "      <td>0.017536</td>\n",
              "      <td>-0.176141</td>\n",
              "    </tr>\n",
              "    <tr>\n",
              "      <th>4791</th>\n",
              "      <td>2021-02-25</td>\n",
              "      <td>169.559998</td>\n",
              "      <td>184.679993</td>\n",
              "      <td>101.000000</td>\n",
              "      <td>108.730003</td>\n",
              "      <td>147922292</td>\n",
              "      <td>0.0</td>\n",
              "      <td>0.0</td>\n",
              "      <td>0.170236</td>\n",
              "      <td>0.712636</td>\n",
              "      <td>-0.022646</td>\n",
              "      <td>0.125120</td>\n",
              "      <td>-0.002461</td>\n",
              "      <td>-0.121354</td>\n",
              "      <td>-0.074838</td>\n",
              "      <td>-0.056732</td>\n",
              "      <td>0.025122</td>\n",
              "      <td>-0.001955</td>\n",
              "      <td>0.017536</td>\n",
              "    </tr>\n",
              "  </tbody>\n",
              "</table>\n",
              "<p>4792 rows × 19 columns</p>\n",
              "</div>"
            ],
            "text/plain": [
              "           Date        Open  ...  returns_lag_9  returns_lag_10\n",
              "0    2002-02-13    6.480513  ...            NaN             NaN\n",
              "1    2002-02-14    6.850831  ...            NaN             NaN\n",
              "2    2002-02-15    6.733001  ...            NaN             NaN\n",
              "3    2002-02-19    6.665671  ...            NaN             NaN\n",
              "4    2002-02-20    6.463681  ...            NaN             NaN\n",
              "...         ...         ...  ...            ...             ...\n",
              "4787 2021-02-19   41.279999  ...       0.175601       -0.546554\n",
              "4788 2021-02-22   46.689999  ...      -0.060938        0.175601\n",
              "4789 2021-02-23   44.970001  ...      -0.176141       -0.060938\n",
              "4790 2021-02-24   44.700001  ...       0.017536       -0.176141\n",
              "4791 2021-02-25  169.559998  ...      -0.001955        0.017536\n",
              "\n",
              "[4792 rows x 19 columns]"
            ]
          },
          "metadata": {
            "tags": []
          }
        }
      ]
    },
    {
      "cell_type": "markdown",
      "metadata": {
        "id": "B1gE74LANyeJ"
      },
      "source": [
        "Now we need to convert our data into an array so that it can actually be used by neural network.\r\n",
        "\r\n",
        "Notice that for the first 12 rows of our data, some of the values are NaN. To avoid this problem we will simply skip these values and start with the 12th row.\r\n",
        "\r\n",
        "**X** contains the returns of the previous ten days i.e. the data we will input in our neural network. It is also usually referred to as the training data.\r\n",
        "\r\n",
        "**y** contains the return of the current day i.e. the number we want the output of our neural network to be close to. It is also referred to as the training label."
      ]
    },
    {
      "cell_type": "code",
      "metadata": {
        "id": "_oUwYz41ONQv"
      },
      "source": [
        "X = temp[['returns_lag_' + str(i) for i in range(1, LAGS + 1)]].iloc[LAGS+2:].values\r\n",
        "y = temp['returns'].iloc[LAGS+2:].values"
      ],
      "execution_count": 6,
      "outputs": []
    },
    {
      "cell_type": "markdown",
      "metadata": {
        "id": "-vLYefk5O7di"
      },
      "source": [
        "Let's seperate a small portion of our training data **X** inorder to create a testing dataset. We will perform a similar calculation on **y**."
      ]
    },
    {
      "cell_type": "code",
      "metadata": {
        "id": "dntqN17MPTUG"
      },
      "source": [
        "Xtest = X[-500:]\r\n",
        "ytest = y[-500:]\r\n",
        "X = X[0:len(X)-500]\r\n",
        "y = y[0:len(y)-500]"
      ],
      "execution_count": 7,
      "outputs": []
    },
    {
      "cell_type": "markdown",
      "metadata": {
        "id": "rG6uzHZ5PhLc"
      },
      "source": [
        "To get a better idea of our data, let's print out their shapes:"
      ]
    },
    {
      "cell_type": "code",
      "metadata": {
        "colab": {
          "base_uri": "https://localhost:8080/"
        },
        "id": "uYI2qk5-Pkkw",
        "outputId": "e46908af-be54-409c-b3c8-4677e5f871bc"
      },
      "source": [
        "print(X.shape)\r\n",
        "print(y.shape)\r\n",
        "\r\n",
        "print(Xtest.shape)\r\n",
        "print(ytest.shape)"
      ],
      "execution_count": 8,
      "outputs": [
        {
          "output_type": "stream",
          "text": [
            "(4280, 10)\n",
            "(4280,)\n",
            "(500, 10)\n",
            "(500,)\n"
          ],
          "name": "stdout"
        }
      ]
    },
    {
      "cell_type": "markdown",
      "metadata": {
        "id": "zqK9UGLhS49y"
      },
      "source": [
        "## **Modelling our Neural Network**\n",
        "Now for the fun part! Let's get to building our Neural Network. We've chosen a Neural Network as our model. For an unfamiliar reader, a Neural Network is a model that \"learns\" a function by minimising an objective. In this case, we want to learn a function that minimises the error, or *squared distance* between the predictions and the true future returns (more on the Tensorflow Tutorial https://www.tensorflow.org/tutorials)\n",
        "\n",
        "We will be using Tensorflow to build our neural network as it makes most of the coding straightforward simple.\n",
        "\n",
        "Let's import the necessary libraries from tensorflow:\n"
      ]
    },
    {
      "cell_type": "code",
      "metadata": {
        "id": "xcBKnehbQeAp"
      },
      "source": [
        "from tensorflow.keras.models import Sequential\r\n",
        "from tensorflow.keras.layers import Dense"
      ],
      "execution_count": 9,
      "outputs": []
    },
    {
      "cell_type": "markdown",
      "metadata": {
        "id": "5wy9PHS3QtFR"
      },
      "source": [
        "Now we need to define what structure of our neural network. The structure of the model can take any form and it is up to the user to change it to their needs. \r\n",
        "\r\n",
        "We've used a simple model in which we have an input layer of 10 nodes, a second layer of 20 nodes and an outlayer of 1 node.\r\n",
        "\r\n",
        "However, we encourage you to play around with the structure and test different models to decide which one is the best."
      ]
    },
    {
      "cell_type": "code",
      "metadata": {
        "colab": {
          "base_uri": "https://localhost:8080/"
        },
        "id": "xAgIaJO5RQFo",
        "outputId": "741a1bcb-8e7d-48cd-9bac-4df16cc1fb41"
      },
      "source": [
        "model = Sequential()\n",
        "model.add(Dense(20, input_shape=(LAGS,), activation='relu'))\n",
        "model.add(Dense(1))\n",
        "\n",
        "model.compile(optimizer='Adam', loss='mean_squared_error')\n",
        "model.summary()\n"
      ],
      "execution_count": 10,
      "outputs": [
        {
          "output_type": "stream",
          "text": [
            "Model: \"sequential\"\n",
            "_________________________________________________________________\n",
            "Layer (type)                 Output Shape              Param #   \n",
            "=================================================================\n",
            "dense (Dense)                (None, 20)                220       \n",
            "_________________________________________________________________\n",
            "dense_1 (Dense)              (None, 1)                 21        \n",
            "=================================================================\n",
            "Total params: 241\n",
            "Trainable params: 241\n",
            "Non-trainable params: 0\n",
            "_________________________________________________________________\n"
          ],
          "name": "stdout"
        }
      ]
    },
    {
      "cell_type": "markdown",
      "metadata": {
        "id": "Br6YYPT4SF_L"
      },
      "source": [
        "### **Training our model**\r\n",
        "\r\n",
        "Let's input our training data to train it:\r\n",
        "\r\n",
        "When modelling we need to take care and really understand what our model is doing. For example, we can't \"shuffle\" the data - change the order of the rows because our data actually has a sequential order - row 1 is day 1 - 10, row 2 is day 2 - 11  -if we change the order, we may be inadvertedly expose the model to \"future data\" within training"
      ]
    },
    {
      "cell_type": "code",
      "metadata": {
        "colab": {
          "base_uri": "https://localhost:8080/"
        },
        "id": "VKIP2-c2Rjqj",
        "outputId": "d8a70685-2eaf-48c5-9db8-d672f56b4026"
      },
      "source": [
        "model.fit(X, y, epochs=10, shuffle=False, batch_size=32)"
      ],
      "execution_count": 11,
      "outputs": [
        {
          "output_type": "stream",
          "text": [
            "Epoch 1/10\n",
            "134/134 [==============================] - 1s 895us/step - loss: 0.0012\n",
            "Epoch 2/10\n",
            "134/134 [==============================] - 0s 984us/step - loss: 9.6055e-04\n",
            "Epoch 3/10\n",
            "134/134 [==============================] - 0s 924us/step - loss: 9.4207e-04\n",
            "Epoch 4/10\n",
            "134/134 [==============================] - 0s 955us/step - loss: 9.3406e-04\n",
            "Epoch 5/10\n",
            "134/134 [==============================] - 0s 931us/step - loss: 9.2870e-04\n",
            "Epoch 6/10\n",
            "134/134 [==============================] - 0s 1ms/step - loss: 9.2567e-04\n",
            "Epoch 7/10\n",
            "134/134 [==============================] - 0s 945us/step - loss: 9.2148e-04\n",
            "Epoch 8/10\n",
            "134/134 [==============================] - 0s 1ms/step - loss: 9.1914e-04\n",
            "Epoch 9/10\n",
            "134/134 [==============================] - 0s 932us/step - loss: 9.1448e-04\n",
            "Epoch 10/10\n",
            "134/134 [==============================] - 0s 967us/step - loss: 9.1151e-04\n"
          ],
          "name": "stdout"
        },
        {
          "output_type": "execute_result",
          "data": {
            "text/plain": [
              "<tensorflow.python.keras.callbacks.History at 0x7f9915c96290>"
            ]
          },
          "metadata": {
            "tags": []
          },
          "execution_count": 11
        }
      ]
    },
    {
      "cell_type": "markdown",
      "metadata": {
        "id": "k7m7exu8SUVq"
      },
      "source": [
        "### **Testing our data**\r\n",
        "Now let's see how our data performs on unseen data:"
      ]
    },
    {
      "cell_type": "code",
      "metadata": {
        "id": "MmSdfWskSsI3",
        "colab": {
          "base_uri": "https://localhost:8080/"
        },
        "outputId": "66d604df-6161-4919-f8e4-c419ca76887e"
      },
      "source": [
        "model.evaluate(Xtest, ytest)"
      ],
      "execution_count": 12,
      "outputs": [
        {
          "output_type": "stream",
          "text": [
            "16/16 [==============================] - 0s 1ms/step - loss: 0.0172\n"
          ],
          "name": "stdout"
        },
        {
          "output_type": "execute_result",
          "data": {
            "text/plain": [
              "0.01715780422091484"
            ]
          },
          "metadata": {
            "tags": []
          },
          "execution_count": 12
        }
      ]
    },
    {
      "cell_type": "markdown",
      "metadata": {
        "id": "Da-0iENNSiQW"
      },
      "source": [
        "It's hard to evaluate the `0.0138` loss we got and what it means. So let's plot a graph of the stock returns our model predicted versus the actual stock returns of that day.\n",
        "\n",
        "We examine two plots: Predictions and True Returns on the same plot, and the plot of Predictions (y - axis) vs True Returns (x-axis)"
      ]
    },
    {
      "cell_type": "code",
      "metadata": {
        "id": "ZZSRkGwZRk_Z"
      },
      "source": [
        "predict = model.predict(Xtest)"
      ],
      "execution_count": 13,
      "outputs": []
    },
    {
      "cell_type": "code",
      "metadata": {
        "colab": {
          "base_uri": "https://localhost:8080/",
          "height": 530
        },
        "id": "faTzJjQgRuRT",
        "outputId": "011936d0-5428-4918-9273-dbc163bf7e3f"
      },
      "source": [
        "import matplotlib.pyplot as plt\r\n",
        "plt.plot(range(1,501), ytest, label = \"Actual\")\r\n",
        "plt.plot(range(1,501), predict, label = \"Predicted\")\r\n",
        "plt.show()\r\n",
        "\r\n",
        "plt.scatter(predict, ytest)"
      ],
      "execution_count": 14,
      "outputs": [
        {
          "output_type": "display_data",
          "data": {
            "image/png": "[encoded data removed]",
            "text/plain": [
              "<Figure size 432x288 with 1 Axes>"
            ]
          },
          "metadata": {
            "tags": [],
            "needs_background": "light"
          }
        },
        {
          "output_type": "execute_result",
          "data": {
            "text/plain": [
              "<matplotlib.collections.PathCollection at 0x7f990dca1750>"
            ]
          },
          "metadata": {
            "tags": []
          },
          "execution_count": 14
        },
        {
          "output_type": "display_data",
          "data": {
            "image/png": "[encoded data removed]",
            "text/plain": [
              "<Figure size 432x288 with 1 Axes>"
            ]
          },
          "metadata": {
            "tags": [],
            "needs_background": "light"
          }
        }
      ]
    },
    {
      "cell_type": "markdown",
      "metadata": {
        "id": "145rSfPqUlEf"
      },
      "source": [
        "How can we evaluate this? If the model was fairly accurate, the second plot would have the points closer to a 45-degree straight line - whereas the points are in a circular, random shape. Moreover, we can see that our model is not very accurate. For example, it only predicts large increase/decrease after a largeincrease /decrease occurs!\r\n",
        "\r\n",
        "\r\n",
        "What can we take away from this? Either our model is not fully optimal - there are ways we can improve our model: For example, you can add more layers, increasing the complexity of the neural network but maybe improving its score. Perhaps we have not misspecified the problem - instead of prediction the return, we can predict the direction , i.e. $y > 0$ (classification). Perhaps we could benefit from having more variables to your dataset - You can include data about the companies' dividend policy, income, etc. Or perhaps the limitation is that the task itself is too noisy (see this [link](https://medium.com/analytics-vidhya/no-lstms-cant-predict-stock-prices-11f10dcb35d6)); it is just too difficult to predict returns with any model. All of these and none of these may be valid.\r\n",
        "\r\n",
        "Then what can we do next? We reiterate, and re-evaluate - the typical data science process.\r\n",
        "\r\n",
        "\r\n",
        "\r\n"
      ]
    },
    {
      "source": [
        "![end banner](../banners/finish_banner.png)"
      ],
      "cell_type": "markdown",
      "metadata": {}
    }
  ]
}