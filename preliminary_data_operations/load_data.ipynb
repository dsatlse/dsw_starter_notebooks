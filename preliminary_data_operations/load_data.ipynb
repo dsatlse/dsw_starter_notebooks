{
 "metadata": {
  "language_info": {
   "codemirror_mode": {
    "name": "ipython",
    "version": 3
   },
   "file_extension": ".py",
   "mimetype": "text/x-python",
   "name": "python",
   "nbconvert_exporter": "python",
   "pygments_lexer": "ipython3",
   "version": "3.8.5-final"
  },
  "orig_nbformat": 2,
  "kernelspec": {
   "name": "python3",
   "display_name": "Python 3",
   "language": "python"
  }
 },
 "nbformat": 4,
 "nbformat_minor": 2,
 "cells": [
  {
   "source": [
    "![title banner](../banners/start_banner.png)\n",
    "\n",
    "# Topic : Loading Data\n",
    "\n",
    "This notebook provides sample code to load data of the following types using pandas\n",
    "\n",
    "- .csv\n",
    "- .tsv\n",
    "- .json\n",
    "\n",
    "Further Reference : https://pandas.pydata.org/pandas-docs/stable/reference/io.html"
   ],
   "cell_type": "markdown",
   "metadata": {}
  },
  {
   "cell_type": "code",
   "execution_count": 1,
   "metadata": {},
   "outputs": [],
   "source": [
    "import pandas as pd\n",
    "import json"
   ]
  },
  {
   "cell_type": "code",
   "execution_count": 2,
   "metadata": {},
   "outputs": [
    {
     "output_type": "execute_result",
     "data": {
      "text/plain": [
       "                                           Indicator              Group  \\\n",
       "0  Took Prescription Medication for Mental Health...  National Estimate   \n",
       "1  Took Prescription Medication for Mental Health...             By Age   \n",
       "2  Took Prescription Medication for Mental Health...             By Age   \n",
       "\n",
       "           State       Subgroup Phase  Time Period Time Period Label  \\\n",
       "0  United States  United States     2           13   Aug 19 - Aug 31   \n",
       "1  United States  18 - 29 years     2           13   Aug 19 - Aug 31   \n",
       "2  United States  30 - 39 years     2           13   Aug 19 - Aug 31   \n",
       "\n",
       "   Time Period Start Date    Time Period End Date  Value  LowCI  HighCI  \\\n",
       "0  08/19/2020 12:00:00 AM  08/31/2020 12:00:00 AM   19.4   19.0    19.8   \n",
       "1  08/19/2020 12:00:00 AM  08/31/2020 12:00:00 AM   18.7   17.2    20.3   \n",
       "2  08/19/2020 12:00:00 AM  08/31/2020 12:00:00 AM   18.3   17.3    19.2   \n",
       "\n",
       "  Confidence Interval Quartile Range  Suppression Flag  \n",
       "0         19.0 - 19.8            NaN               NaN  \n",
       "1         17.2 - 20.3            NaN               NaN  \n",
       "2         17.3 - 19.2            NaN               NaN  "
      ],
      "text/html": "<div>\n<style scoped>\n    .dataframe tbody tr th:only-of-type {\n        vertical-align: middle;\n    }\n\n    .dataframe tbody tr th {\n        vertical-align: top;\n    }\n\n    .dataframe thead th {\n        text-align: right;\n    }\n</style>\n<table border=\"1\" class=\"dataframe\">\n  <thead>\n    <tr style=\"text-align: right;\">\n      <th></th>\n      <th>Indicator</th>\n      <th>Group</th>\n      <th>State</th>\n      <th>Subgroup</th>\n      <th>Phase</th>\n      <th>Time Period</th>\n      <th>Time Period Label</th>\n      <th>Time Period Start Date</th>\n      <th>Time Period End Date</th>\n      <th>Value</th>\n      <th>LowCI</th>\n      <th>HighCI</th>\n      <th>Confidence Interval</th>\n      <th>Quartile Range</th>\n      <th>Suppression Flag</th>\n    </tr>\n  </thead>\n  <tbody>\n    <tr>\n      <th>0</th>\n      <td>Took Prescription Medication for Mental Health...</td>\n      <td>National Estimate</td>\n      <td>United States</td>\n      <td>United States</td>\n      <td>2</td>\n      <td>13</td>\n      <td>Aug 19 - Aug 31</td>\n      <td>08/19/2020 12:00:00 AM</td>\n      <td>08/31/2020 12:00:00 AM</td>\n      <td>19.4</td>\n      <td>19.0</td>\n      <td>19.8</td>\n      <td>19.0 - 19.8</td>\n      <td>NaN</td>\n      <td>NaN</td>\n    </tr>\n    <tr>\n      <th>1</th>\n      <td>Took Prescription Medication for Mental Health...</td>\n      <td>By Age</td>\n      <td>United States</td>\n      <td>18 - 29 years</td>\n      <td>2</td>\n      <td>13</td>\n      <td>Aug 19 - Aug 31</td>\n      <td>08/19/2020 12:00:00 AM</td>\n      <td>08/31/2020 12:00:00 AM</td>\n      <td>18.7</td>\n      <td>17.2</td>\n      <td>20.3</td>\n      <td>17.2 - 20.3</td>\n      <td>NaN</td>\n      <td>NaN</td>\n    </tr>\n    <tr>\n      <th>2</th>\n      <td>Took Prescription Medication for Mental Health...</td>\n      <td>By Age</td>\n      <td>United States</td>\n      <td>30 - 39 years</td>\n      <td>2</td>\n      <td>13</td>\n      <td>Aug 19 - Aug 31</td>\n      <td>08/19/2020 12:00:00 AM</td>\n      <td>08/31/2020 12:00:00 AM</td>\n      <td>18.3</td>\n      <td>17.3</td>\n      <td>19.2</td>\n      <td>17.3 - 19.2</td>\n      <td>NaN</td>\n      <td>NaN</td>\n    </tr>\n  </tbody>\n</table>\n</div>"
     },
     "metadata": {},
     "execution_count": 2
    }
   ],
   "source": [
    "# csv\n",
    "df1 = pd.read_csv('../test_datasets/mental_health_survey.csv')\n",
    "df1.head(3)"
   ]
  },
  {
   "cell_type": "code",
   "execution_count": 3,
   "metadata": {},
   "outputs": [
    {
     "output_type": "execute_result",
     "data": {
      "text/plain": [
       "                                           Indicator              Group  \\\n",
       "0  Took Prescription Medication for Mental Health...  National Estimate   \n",
       "1  Took Prescription Medication for Mental Health...             By Age   \n",
       "2  Took Prescription Medication for Mental Health...             By Age   \n",
       "\n",
       "           State       Subgroup Phase  Time Period Time Period Label  \\\n",
       "0  United States  United States     2           13   Aug 19 - Aug 31   \n",
       "1  United States  18 - 29 years     2           13   Aug 19 - Aug 31   \n",
       "2  United States  30 - 39 years     2           13   Aug 19 - Aug 31   \n",
       "\n",
       "   Time Period Start Date    Time Period End Date  Value  LowCI  HighCI  \\\n",
       "0  08/19/2020 12:00:00 AM  08/31/2020 12:00:00 AM   19.4   19.0    19.8   \n",
       "1  08/19/2020 12:00:00 AM  08/31/2020 12:00:00 AM   18.7   17.2    20.3   \n",
       "2  08/19/2020 12:00:00 AM  08/31/2020 12:00:00 AM   18.3   17.3    19.2   \n",
       "\n",
       "  Confidence Interval Quartile Range  Suppression Flag  \n",
       "0         19.0 - 19.8            NaN               NaN  \n",
       "1         17.2 - 20.3            NaN               NaN  \n",
       "2         17.3 - 19.2            NaN               NaN  "
      ],
      "text/html": "<div>\n<style scoped>\n    .dataframe tbody tr th:only-of-type {\n        vertical-align: middle;\n    }\n\n    .dataframe tbody tr th {\n        vertical-align: top;\n    }\n\n    .dataframe thead th {\n        text-align: right;\n    }\n</style>\n<table border=\"1\" class=\"dataframe\">\n  <thead>\n    <tr style=\"text-align: right;\">\n      <th></th>\n      <th>Indicator</th>\n      <th>Group</th>\n      <th>State</th>\n      <th>Subgroup</th>\n      <th>Phase</th>\n      <th>Time Period</th>\n      <th>Time Period Label</th>\n      <th>Time Period Start Date</th>\n      <th>Time Period End Date</th>\n      <th>Value</th>\n      <th>LowCI</th>\n      <th>HighCI</th>\n      <th>Confidence Interval</th>\n      <th>Quartile Range</th>\n      <th>Suppression Flag</th>\n    </tr>\n  </thead>\n  <tbody>\n    <tr>\n      <th>0</th>\n      <td>Took Prescription Medication for Mental Health...</td>\n      <td>National Estimate</td>\n      <td>United States</td>\n      <td>United States</td>\n      <td>2</td>\n      <td>13</td>\n      <td>Aug 19 - Aug 31</td>\n      <td>08/19/2020 12:00:00 AM</td>\n      <td>08/31/2020 12:00:00 AM</td>\n      <td>19.4</td>\n      <td>19.0</td>\n      <td>19.8</td>\n      <td>19.0 - 19.8</td>\n      <td>NaN</td>\n      <td>NaN</td>\n    </tr>\n    <tr>\n      <th>1</th>\n      <td>Took Prescription Medication for Mental Health...</td>\n      <td>By Age</td>\n      <td>United States</td>\n      <td>18 - 29 years</td>\n      <td>2</td>\n      <td>13</td>\n      <td>Aug 19 - Aug 31</td>\n      <td>08/19/2020 12:00:00 AM</td>\n      <td>08/31/2020 12:00:00 AM</td>\n      <td>18.7</td>\n      <td>17.2</td>\n      <td>20.3</td>\n      <td>17.2 - 20.3</td>\n      <td>NaN</td>\n      <td>NaN</td>\n    </tr>\n    <tr>\n      <th>2</th>\n      <td>Took Prescription Medication for Mental Health...</td>\n      <td>By Age</td>\n      <td>United States</td>\n      <td>30 - 39 years</td>\n      <td>2</td>\n      <td>13</td>\n      <td>Aug 19 - Aug 31</td>\n      <td>08/19/2020 12:00:00 AM</td>\n      <td>08/31/2020 12:00:00 AM</td>\n      <td>18.3</td>\n      <td>17.3</td>\n      <td>19.2</td>\n      <td>17.3 - 19.2</td>\n      <td>NaN</td>\n      <td>NaN</td>\n    </tr>\n  </tbody>\n</table>\n</div>"
     },
     "metadata": {},
     "execution_count": 3
    }
   ],
   "source": [
    "# tsv\n",
    "df2 = pd.read_csv('../test_datasets/mental_health_survey.tsv', sep='\\t')\n",
    "df2.head(3)"
   ]
  },
  {
   "cell_type": "code",
   "execution_count": 4,
   "metadata": {},
   "outputs": [
    {
     "output_type": "execute_result",
     "data": {
      "text/plain": [
       "                                                  8                  9   \\\n",
       "0  Took Prescription Medication for Mental Health...  National Estimate   \n",
       "1  Took Prescription Medication for Mental Health...             By Age   \n",
       "2  Took Prescription Medication for Mental Health...             By Age   \n",
       "3  Took Prescription Medication for Mental Health...             By Age   \n",
       "4  Took Prescription Medication for Mental Health...             By Age   \n",
       "\n",
       "              10             11 12  13               14                   15  \\\n",
       "0  United States  United States  2  13  Aug 19 - Aug 31  2020-08-19T00:00:00   \n",
       "1  United States  18 - 29 years  2  13  Aug 19 - Aug 31  2020-08-19T00:00:00   \n",
       "2  United States  30 - 39 years  2  13  Aug 19 - Aug 31  2020-08-19T00:00:00   \n",
       "3  United States  40 - 49 years  2  13  Aug 19 - Aug 31  2020-08-19T00:00:00   \n",
       "4  United States  50 - 59 years  2  13  Aug 19 - Aug 31  2020-08-19T00:00:00   \n",
       "\n",
       "                    16    17    18    19           20    21    22  \n",
       "0  2020-08-31T00:00:00  19.4    19  19.8  19.0 - 19.8  None  None  \n",
       "1  2020-08-31T00:00:00  18.7  17.2  20.3  17.2 - 20.3  None  None  \n",
       "2  2020-08-31T00:00:00  18.3  17.3  19.2  17.3 - 19.2  None  None  \n",
       "3  2020-08-31T00:00:00  20.4  19.5  21.3  19.5 - 21.3  None  None  \n",
       "4  2020-08-31T00:00:00  21.2  20.2  22.2  20.2 - 22.2  None  None  "
      ],
      "text/html": "<div>\n<style scoped>\n    .dataframe tbody tr th:only-of-type {\n        vertical-align: middle;\n    }\n\n    .dataframe tbody tr th {\n        vertical-align: top;\n    }\n\n    .dataframe thead th {\n        text-align: right;\n    }\n</style>\n<table border=\"1\" class=\"dataframe\">\n  <thead>\n    <tr style=\"text-align: right;\">\n      <th></th>\n      <th>8</th>\n      <th>9</th>\n      <th>10</th>\n      <th>11</th>\n      <th>12</th>\n      <th>13</th>\n      <th>14</th>\n      <th>15</th>\n      <th>16</th>\n      <th>17</th>\n      <th>18</th>\n      <th>19</th>\n      <th>20</th>\n      <th>21</th>\n      <th>22</th>\n    </tr>\n  </thead>\n  <tbody>\n    <tr>\n      <th>0</th>\n      <td>Took Prescription Medication for Mental Health...</td>\n      <td>National Estimate</td>\n      <td>United States</td>\n      <td>United States</td>\n      <td>2</td>\n      <td>13</td>\n      <td>Aug 19 - Aug 31</td>\n      <td>2020-08-19T00:00:00</td>\n      <td>2020-08-31T00:00:00</td>\n      <td>19.4</td>\n      <td>19</td>\n      <td>19.8</td>\n      <td>19.0 - 19.8</td>\n      <td>None</td>\n      <td>None</td>\n    </tr>\n    <tr>\n      <th>1</th>\n      <td>Took Prescription Medication for Mental Health...</td>\n      <td>By Age</td>\n      <td>United States</td>\n      <td>18 - 29 years</td>\n      <td>2</td>\n      <td>13</td>\n      <td>Aug 19 - Aug 31</td>\n      <td>2020-08-19T00:00:00</td>\n      <td>2020-08-31T00:00:00</td>\n      <td>18.7</td>\n      <td>17.2</td>\n      <td>20.3</td>\n      <td>17.2 - 20.3</td>\n      <td>None</td>\n      <td>None</td>\n    </tr>\n    <tr>\n      <th>2</th>\n      <td>Took Prescription Medication for Mental Health...</td>\n      <td>By Age</td>\n      <td>United States</td>\n      <td>30 - 39 years</td>\n      <td>2</td>\n      <td>13</td>\n      <td>Aug 19 - Aug 31</td>\n      <td>2020-08-19T00:00:00</td>\n      <td>2020-08-31T00:00:00</td>\n      <td>18.3</td>\n      <td>17.3</td>\n      <td>19.2</td>\n      <td>17.3 - 19.2</td>\n      <td>None</td>\n      <td>None</td>\n    </tr>\n    <tr>\n      <th>3</th>\n      <td>Took Prescription Medication for Mental Health...</td>\n      <td>By Age</td>\n      <td>United States</td>\n      <td>40 - 49 years</td>\n      <td>2</td>\n      <td>13</td>\n      <td>Aug 19 - Aug 31</td>\n      <td>2020-08-19T00:00:00</td>\n      <td>2020-08-31T00:00:00</td>\n      <td>20.4</td>\n      <td>19.5</td>\n      <td>21.3</td>\n      <td>19.5 - 21.3</td>\n      <td>None</td>\n      <td>None</td>\n    </tr>\n    <tr>\n      <th>4</th>\n      <td>Took Prescription Medication for Mental Health...</td>\n      <td>By Age</td>\n      <td>United States</td>\n      <td>50 - 59 years</td>\n      <td>2</td>\n      <td>13</td>\n      <td>Aug 19 - Aug 31</td>\n      <td>2020-08-19T00:00:00</td>\n      <td>2020-08-31T00:00:00</td>\n      <td>21.2</td>\n      <td>20.2</td>\n      <td>22.2</td>\n      <td>20.2 - 22.2</td>\n      <td>None</td>\n      <td>None</td>\n    </tr>\n  </tbody>\n</table>\n</div>"
     },
     "metadata": {},
     "execution_count": 4
    }
   ],
   "source": [
    "# json\n",
    "\n",
    "# first load the json data\n",
    "data = json.load(open('../test_datasets/mental_health_survey.json'))\n",
    "\n",
    "# observe the json structure to understand where the data lies\n",
    "necessary_data = data[\"data\"]\n",
    "\n",
    "# convert data as pandas dataframe\n",
    "df3 = pd.DataFrame(necessary_data).iloc[:,8:]\n",
    "df3.head()"
   ]
  },
  {
   "source": [
    "![end banner](../banners/finish_banner.png)"
   ],
   "cell_type": "markdown",
   "metadata": {}
  }
 ]
}