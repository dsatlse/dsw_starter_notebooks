{
 "metadata": {
  "language_info": {
   "codemirror_mode": {
    "name": "ipython",
    "version": 3
   },
   "file_extension": ".py",
   "mimetype": "text/x-python",
   "name": "python",
   "nbconvert_exporter": "python",
   "pygments_lexer": "ipython3",
   "version": "3.7.9-final"
  },
  "orig_nbformat": 2,
  "kernelspec": {
   "name": "python3",
   "display_name": "Python 3.7.9 64-bit ('dss': conda)",
   "metadata": {
    "interpreter": {
     "hash": "c31baf1cb3fc2c49ce44b03625c1967e2053dc79c3243e7d5474024d7574ba05"
    }
   }
  }
 },
 "nbformat": 4,
 "nbformat_minor": 2,
 "cells": [
  {
   "source": [
    "![title banner](../banners/start_banner.png)\n",
    "\n",
    "# Topic : Date and Time\n",
    "\n",
    "This notebook provides sample code to work with date and time in pandas.\n",
    "\n",
    "**Further reference:** https://pandas.pydata.org/docs/user_guide/timeseries.html"
   ],
   "cell_type": "markdown",
   "metadata": {}
  },
  {
   "cell_type": "code",
   "execution_count": 3,
   "metadata": {},
   "outputs": [],
   "source": [
    "import pandas as pd\n",
    "import datetime"
   ]
  },
  {
   "cell_type": "code",
   "execution_count": 2,
   "metadata": {},
   "outputs": [
    {
     "output_type": "execute_result",
     "data": {
      "text/plain": [
       "   country iso_code        date  total_vaccinations  people_vaccinated  \\\n",
       "0  Albania      ALB  2021-01-10                 0.0                0.0   \n",
       "1  Albania      ALB  2021-01-11                 NaN                NaN   \n",
       "2  Albania      ALB  2021-01-12               128.0              128.0   \n",
       "3  Albania      ALB  2021-01-13               188.0              188.0   \n",
       "4  Albania      ALB  2021-01-14               266.0              266.0   \n",
       "\n",
       "   people_fully_vaccinated  daily_vaccinations_raw  daily_vaccinations  \\\n",
       "0                      NaN                     NaN                 NaN   \n",
       "1                      NaN                     NaN                64.0   \n",
       "2                      NaN                     NaN                64.0   \n",
       "3                      NaN                    60.0                63.0   \n",
       "4                      NaN                    78.0                66.0   \n",
       "\n",
       "   total_vaccinations_per_hundred  people_vaccinated_per_hundred  \\\n",
       "0                            0.00                           0.00   \n",
       "1                             NaN                            NaN   \n",
       "2                            0.00                           0.00   \n",
       "3                            0.01                           0.01   \n",
       "4                            0.01                           0.01   \n",
       "\n",
       "   people_fully_vaccinated_per_hundred  daily_vaccinations_per_million  \\\n",
       "0                                  NaN                             NaN   \n",
       "1                                  NaN                            22.0   \n",
       "2                                  NaN                            22.0   \n",
       "3                                  NaN                            22.0   \n",
       "4                                  NaN                            23.0   \n",
       "\n",
       "          vaccines         source_name  \\\n",
       "0  Pfizer/BioNTech  Ministry of Health   \n",
       "1  Pfizer/BioNTech  Ministry of Health   \n",
       "2  Pfizer/BioNTech  Ministry of Health   \n",
       "3  Pfizer/BioNTech  Ministry of Health   \n",
       "4  Pfizer/BioNTech  Ministry of Health   \n",
       "\n",
       "                                      source_website  \n",
       "0  https://shendetesia.gov.al/vaksinimi-anticovid...  \n",
       "1  https://shendetesia.gov.al/vaksinimi-anticovid...  \n",
       "2  https://shendetesia.gov.al/vaksinimi-anticovid...  \n",
       "3  https://shendetesia.gov.al/vaksinimi-anticovid...  \n",
       "4  https://shendetesia.gov.al/vaksinimi-anticovid...  "
      ],
      "text/html": "<div>\n<style scoped>\n    .dataframe tbody tr th:only-of-type {\n        vertical-align: middle;\n    }\n\n    .dataframe tbody tr th {\n        vertical-align: top;\n    }\n\n    .dataframe thead th {\n        text-align: right;\n    }\n</style>\n<table border=\"1\" class=\"dataframe\">\n  <thead>\n    <tr style=\"text-align: right;\">\n      <th></th>\n      <th>country</th>\n      <th>iso_code</th>\n      <th>date</th>\n      <th>total_vaccinations</th>\n      <th>people_vaccinated</th>\n      <th>people_fully_vaccinated</th>\n      <th>daily_vaccinations_raw</th>\n      <th>daily_vaccinations</th>\n      <th>total_vaccinations_per_hundred</th>\n      <th>people_vaccinated_per_hundred</th>\n      <th>people_fully_vaccinated_per_hundred</th>\n      <th>daily_vaccinations_per_million</th>\n      <th>vaccines</th>\n      <th>source_name</th>\n      <th>source_website</th>\n    </tr>\n  </thead>\n  <tbody>\n    <tr>\n      <th>0</th>\n      <td>Albania</td>\n      <td>ALB</td>\n      <td>2021-01-10</td>\n      <td>0.0</td>\n      <td>0.0</td>\n      <td>NaN</td>\n      <td>NaN</td>\n      <td>NaN</td>\n      <td>0.00</td>\n      <td>0.00</td>\n      <td>NaN</td>\n      <td>NaN</td>\n      <td>Pfizer/BioNTech</td>\n      <td>Ministry of Health</td>\n      <td>https://shendetesia.gov.al/vaksinimi-anticovid...</td>\n    </tr>\n    <tr>\n      <th>1</th>\n      <td>Albania</td>\n      <td>ALB</td>\n      <td>2021-01-11</td>\n      <td>NaN</td>\n      <td>NaN</td>\n      <td>NaN</td>\n      <td>NaN</td>\n      <td>64.0</td>\n      <td>NaN</td>\n      <td>NaN</td>\n      <td>NaN</td>\n      <td>22.0</td>\n      <td>Pfizer/BioNTech</td>\n      <td>Ministry of Health</td>\n      <td>https://shendetesia.gov.al/vaksinimi-anticovid...</td>\n    </tr>\n    <tr>\n      <th>2</th>\n      <td>Albania</td>\n      <td>ALB</td>\n      <td>2021-01-12</td>\n      <td>128.0</td>\n      <td>128.0</td>\n      <td>NaN</td>\n      <td>NaN</td>\n      <td>64.0</td>\n      <td>0.00</td>\n      <td>0.00</td>\n      <td>NaN</td>\n      <td>22.0</td>\n      <td>Pfizer/BioNTech</td>\n      <td>Ministry of Health</td>\n      <td>https://shendetesia.gov.al/vaksinimi-anticovid...</td>\n    </tr>\n    <tr>\n      <th>3</th>\n      <td>Albania</td>\n      <td>ALB</td>\n      <td>2021-01-13</td>\n      <td>188.0</td>\n      <td>188.0</td>\n      <td>NaN</td>\n      <td>60.0</td>\n      <td>63.0</td>\n      <td>0.01</td>\n      <td>0.01</td>\n      <td>NaN</td>\n      <td>22.0</td>\n      <td>Pfizer/BioNTech</td>\n      <td>Ministry of Health</td>\n      <td>https://shendetesia.gov.al/vaksinimi-anticovid...</td>\n    </tr>\n    <tr>\n      <th>4</th>\n      <td>Albania</td>\n      <td>ALB</td>\n      <td>2021-01-14</td>\n      <td>266.0</td>\n      <td>266.0</td>\n      <td>NaN</td>\n      <td>78.0</td>\n      <td>66.0</td>\n      <td>0.01</td>\n      <td>0.01</td>\n      <td>NaN</td>\n      <td>23.0</td>\n      <td>Pfizer/BioNTech</td>\n      <td>Ministry of Health</td>\n      <td>https://shendetesia.gov.al/vaksinimi-anticovid...</td>\n    </tr>\n  </tbody>\n</table>\n</div>"
     },
     "metadata": {},
     "execution_count": 2
    }
   ],
   "source": [
    "df = pd.read_csv('../test_datasets/country_vaccinations.csv')\n",
    "df.head()"
   ]
  },
  {
   "source": [
    "Many times, it becomes important to feature engineer new features from a date feature such as month, day and year for easier analysis. The following code snippet will help do this."
   ],
   "cell_type": "markdown",
   "metadata": {}
  },
  {
   "cell_type": "code",
   "execution_count": 4,
   "metadata": {},
   "outputs": [],
   "source": [
    "# convert feature to datetime\n",
    "df['date'] = pd.to_datetime(df['date'])"
   ]
  },
  {
   "cell_type": "code",
   "execution_count": 11,
   "metadata": {},
   "outputs": [],
   "source": [
    "# write some functions to get components from the dates\n",
    "\n",
    "def get_year(x):\n",
    "    return x.year \n",
    "\n",
    "def get_month(x):\n",
    "    return x.month\n",
    "\n",
    "def get_day(x):\n",
    "    return x.day"
   ]
  },
  {
   "cell_type": "code",
   "execution_count": 12,
   "metadata": {},
   "outputs": [
    {
     "output_type": "execute_result",
     "data": {
      "text/plain": [
       "   country iso_code       date  total_vaccinations  people_vaccinated  \\\n",
       "0  Albania      ALB 2021-01-10                 0.0                0.0   \n",
       "1  Albania      ALB 2021-01-11                 NaN                NaN   \n",
       "2  Albania      ALB 2021-01-12               128.0              128.0   \n",
       "3  Albania      ALB 2021-01-13               188.0              188.0   \n",
       "4  Albania      ALB 2021-01-14               266.0              266.0   \n",
       "\n",
       "   people_fully_vaccinated  daily_vaccinations_raw  daily_vaccinations  \\\n",
       "0                      NaN                     NaN                 NaN   \n",
       "1                      NaN                     NaN                64.0   \n",
       "2                      NaN                     NaN                64.0   \n",
       "3                      NaN                    60.0                63.0   \n",
       "4                      NaN                    78.0                66.0   \n",
       "\n",
       "   total_vaccinations_per_hundred  people_vaccinated_per_hundred  \\\n",
       "0                            0.00                           0.00   \n",
       "1                             NaN                            NaN   \n",
       "2                            0.00                           0.00   \n",
       "3                            0.01                           0.01   \n",
       "4                            0.01                           0.01   \n",
       "\n",
       "   people_fully_vaccinated_per_hundred  daily_vaccinations_per_million  \\\n",
       "0                                  NaN                             NaN   \n",
       "1                                  NaN                            22.0   \n",
       "2                                  NaN                            22.0   \n",
       "3                                  NaN                            22.0   \n",
       "4                                  NaN                            23.0   \n",
       "\n",
       "          vaccines         source_name  \\\n",
       "0  Pfizer/BioNTech  Ministry of Health   \n",
       "1  Pfizer/BioNTech  Ministry of Health   \n",
       "2  Pfizer/BioNTech  Ministry of Health   \n",
       "3  Pfizer/BioNTech  Ministry of Health   \n",
       "4  Pfizer/BioNTech  Ministry of Health   \n",
       "\n",
       "                                      source_website  year  month  day  \n",
       "0  https://shendetesia.gov.al/vaksinimi-anticovid...  2021      1   10  \n",
       "1  https://shendetesia.gov.al/vaksinimi-anticovid...  2021      1   11  \n",
       "2  https://shendetesia.gov.al/vaksinimi-anticovid...  2021      1   12  \n",
       "3  https://shendetesia.gov.al/vaksinimi-anticovid...  2021      1   13  \n",
       "4  https://shendetesia.gov.al/vaksinimi-anticovid...  2021      1   14  "
      ],
      "text/html": "<div>\n<style scoped>\n    .dataframe tbody tr th:only-of-type {\n        vertical-align: middle;\n    }\n\n    .dataframe tbody tr th {\n        vertical-align: top;\n    }\n\n    .dataframe thead th {\n        text-align: right;\n    }\n</style>\n<table border=\"1\" class=\"dataframe\">\n  <thead>\n    <tr style=\"text-align: right;\">\n      <th></th>\n      <th>country</th>\n      <th>iso_code</th>\n      <th>date</th>\n      <th>total_vaccinations</th>\n      <th>people_vaccinated</th>\n      <th>people_fully_vaccinated</th>\n      <th>daily_vaccinations_raw</th>\n      <th>daily_vaccinations</th>\n      <th>total_vaccinations_per_hundred</th>\n      <th>people_vaccinated_per_hundred</th>\n      <th>people_fully_vaccinated_per_hundred</th>\n      <th>daily_vaccinations_per_million</th>\n      <th>vaccines</th>\n      <th>source_name</th>\n      <th>source_website</th>\n      <th>year</th>\n      <th>month</th>\n      <th>day</th>\n    </tr>\n  </thead>\n  <tbody>\n    <tr>\n      <th>0</th>\n      <td>Albania</td>\n      <td>ALB</td>\n      <td>2021-01-10</td>\n      <td>0.0</td>\n      <td>0.0</td>\n      <td>NaN</td>\n      <td>NaN</td>\n      <td>NaN</td>\n      <td>0.00</td>\n      <td>0.00</td>\n      <td>NaN</td>\n      <td>NaN</td>\n      <td>Pfizer/BioNTech</td>\n      <td>Ministry of Health</td>\n      <td>https://shendetesia.gov.al/vaksinimi-anticovid...</td>\n      <td>2021</td>\n      <td>1</td>\n      <td>10</td>\n    </tr>\n    <tr>\n      <th>1</th>\n      <td>Albania</td>\n      <td>ALB</td>\n      <td>2021-01-11</td>\n      <td>NaN</td>\n      <td>NaN</td>\n      <td>NaN</td>\n      <td>NaN</td>\n      <td>64.0</td>\n      <td>NaN</td>\n      <td>NaN</td>\n      <td>NaN</td>\n      <td>22.0</td>\n      <td>Pfizer/BioNTech</td>\n      <td>Ministry of Health</td>\n      <td>https://shendetesia.gov.al/vaksinimi-anticovid...</td>\n      <td>2021</td>\n      <td>1</td>\n      <td>11</td>\n    </tr>\n    <tr>\n      <th>2</th>\n      <td>Albania</td>\n      <td>ALB</td>\n      <td>2021-01-12</td>\n      <td>128.0</td>\n      <td>128.0</td>\n      <td>NaN</td>\n      <td>NaN</td>\n      <td>64.0</td>\n      <td>0.00</td>\n      <td>0.00</td>\n      <td>NaN</td>\n      <td>22.0</td>\n      <td>Pfizer/BioNTech</td>\n      <td>Ministry of Health</td>\n      <td>https://shendetesia.gov.al/vaksinimi-anticovid...</td>\n      <td>2021</td>\n      <td>1</td>\n      <td>12</td>\n    </tr>\n    <tr>\n      <th>3</th>\n      <td>Albania</td>\n      <td>ALB</td>\n      <td>2021-01-13</td>\n      <td>188.0</td>\n      <td>188.0</td>\n      <td>NaN</td>\n      <td>60.0</td>\n      <td>63.0</td>\n      <td>0.01</td>\n      <td>0.01</td>\n      <td>NaN</td>\n      <td>22.0</td>\n      <td>Pfizer/BioNTech</td>\n      <td>Ministry of Health</td>\n      <td>https://shendetesia.gov.al/vaksinimi-anticovid...</td>\n      <td>2021</td>\n      <td>1</td>\n      <td>13</td>\n    </tr>\n    <tr>\n      <th>4</th>\n      <td>Albania</td>\n      <td>ALB</td>\n      <td>2021-01-14</td>\n      <td>266.0</td>\n      <td>266.0</td>\n      <td>NaN</td>\n      <td>78.0</td>\n      <td>66.0</td>\n      <td>0.01</td>\n      <td>0.01</td>\n      <td>NaN</td>\n      <td>23.0</td>\n      <td>Pfizer/BioNTech</td>\n      <td>Ministry of Health</td>\n      <td>https://shendetesia.gov.al/vaksinimi-anticovid...</td>\n      <td>2021</td>\n      <td>1</td>\n      <td>14</td>\n    </tr>\n  </tbody>\n</table>\n</div>"
     },
     "metadata": {},
     "execution_count": 12
    }
   ],
   "source": [
    "# use pandas apply to make new features\n",
    "df['year'] = df['date'].apply(get_year)\n",
    "df['month'] = df['date'].apply(get_month)\n",
    "df['day'] = df['date'].apply(get_day)\n",
    "\n",
    "df.head()"
   ]
  },
  {
   "source": [
    "New features have been added. The further reference link provides much more detail and there is a lot of amazing things that can be done with time series data in pandas!"
   ],
   "cell_type": "markdown",
   "metadata": {}
  },
  {
   "source": [
    "![end banner](../banners/finish_banner.png)"
   ],
   "cell_type": "markdown",
   "metadata": {}
  }
 ]
}